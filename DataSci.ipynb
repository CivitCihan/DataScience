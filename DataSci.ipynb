{
  "nbformat": 4,
  "nbformat_minor": 0,
  "metadata": {
    "colab": {
      "provenance": [],
      "authorship_tag": "ABX9TyNFrfB1yqx1KpSG3d1AAAh5",
      "include_colab_link": true
    },
    "kernelspec": {
      "name": "python3",
      "display_name": "Python 3"
    },
    "language_info": {
      "name": "python"
    }
  },
  "cells": [
    {
      "cell_type": "markdown",
      "metadata": {
        "id": "view-in-github",
        "colab_type": "text"
      },
      "source": [
        "<a href=\"https://colab.research.google.com/github/CivitCihan/DataScience/blob/main/DataSci.ipynb\" target=\"_parent\"><img src=\"https://colab.research.google.com/assets/colab-badge.svg\" alt=\"Open In Colab\"/></a>"
      ]
    },
    {
      "cell_type": "code",
      "execution_count": null,
      "metadata": {
        "id": "uOp_HsArJttw"
      },
      "outputs": [],
      "source": [
        "import numpy as np"
      ]
    },
    {
      "cell_type": "code",
      "source": [
        "a = np.array([1,2,3,4])\n",
        "a"
      ],
      "metadata": {
        "colab": {
          "base_uri": "https://localhost:8080/"
        },
        "id": "rNpauv6-KBcu",
        "outputId": "b00409a7-fef7-4604-cca8-d889a5dfee76"
      },
      "execution_count": null,
      "outputs": [
        {
          "output_type": "execute_result",
          "data": {
            "text/plain": [
              "array([1, 2, 3, 4])"
            ]
          },
          "metadata": {},
          "execution_count": 4
        }
      ]
    },
    {
      "cell_type": "code",
      "source": [
        "a = np.arange(2, 15)\n",
        "a"
      ],
      "metadata": {
        "colab": {
          "base_uri": "https://localhost:8080/"
        },
        "id": "Ks1BEFZiKVid",
        "outputId": "4147bb75-0d29-4940-9ef0-e00344d1a829"
      },
      "execution_count": null,
      "outputs": [
        {
          "output_type": "execute_result",
          "data": {
            "text/plain": [
              "array([ 2,  3,  4,  5,  6,  7,  8,  9, 10, 11, 12, 13, 14])"
            ]
          },
          "metadata": {},
          "execution_count": 7
        }
      ]
    },
    {
      "cell_type": "code",
      "source": [
        "a[0:3]"
      ],
      "metadata": {
        "colab": {
          "base_uri": "https://localhost:8080/"
        },
        "id": "pvHm4dYRKijz",
        "outputId": "67ba7e9a-d82a-4efa-9b41-081b35c25fc1"
      },
      "execution_count": null,
      "outputs": [
        {
          "output_type": "execute_result",
          "data": {
            "text/plain": [
              "array([2, 3, 4])"
            ]
          },
          "metadata": {},
          "execution_count": 8
        }
      ]
    },
    {
      "cell_type": "code",
      "source": [
        "a[0::3]"
      ],
      "metadata": {
        "colab": {
          "base_uri": "https://localhost:8080/"
        },
        "id": "_sjmBp2JKlAI",
        "outputId": "e32427e8-7d60-4838-8a68-73f5b65ee8ce"
      },
      "execution_count": null,
      "outputs": [
        {
          "output_type": "execute_result",
          "data": {
            "text/plain": [
              "array([ 2,  5,  8, 11, 14])"
            ]
          },
          "metadata": {},
          "execution_count": 9
        }
      ]
    },
    {
      "cell_type": "code",
      "source": [
        "a[2::5]"
      ],
      "metadata": {
        "colab": {
          "base_uri": "https://localhost:8080/"
        },
        "id": "P3uUTy7cKr8S",
        "outputId": "48d0c516-7729-4ea8-e372-cf3fa2c687c9"
      },
      "execution_count": null,
      "outputs": [
        {
          "output_type": "execute_result",
          "data": {
            "text/plain": [
              "array([ 4,  9, 14])"
            ]
          },
          "metadata": {},
          "execution_count": 10
        }
      ]
    },
    {
      "cell_type": "code",
      "source": [
        "b = np.random.randint(10, size = (5,5))\n",
        "b"
      ],
      "metadata": {
        "colab": {
          "base_uri": "https://localhost:8080/"
        },
        "id": "CLCw2bqdK1Sp",
        "outputId": "f6ccebe8-93dd-4d16-f786-d7a73f6f511d"
      },
      "execution_count": null,
      "outputs": [
        {
          "output_type": "execute_result",
          "data": {
            "text/plain": [
              "array([[7, 5, 1, 9, 4],\n",
              "       [8, 0, 1, 1, 0],\n",
              "       [6, 0, 2, 1, 6],\n",
              "       [8, 9, 6, 0, 2],\n",
              "       [9, 0, 1, 5, 6]])"
            ]
          },
          "metadata": {},
          "execution_count": 13
        }
      ]
    },
    {
      "cell_type": "code",
      "source": [
        "b[0] #satır"
      ],
      "metadata": {
        "colab": {
          "base_uri": "https://localhost:8080/"
        },
        "id": "N7Dh65dcLUHI",
        "outputId": "ef47d047-8c2b-4797-e032-86191515b9c7"
      },
      "execution_count": null,
      "outputs": [
        {
          "output_type": "execute_result",
          "data": {
            "text/plain": [
              "array([ 10, 103, 103,  12,   7])"
            ]
          },
          "metadata": {},
          "execution_count": 46
        }
      ]
    },
    {
      "cell_type": "code",
      "source": [
        "b[:,4] #sütun"
      ],
      "metadata": {
        "colab": {
          "base_uri": "https://localhost:8080/"
        },
        "id": "84k4dN7ZLYRA",
        "outputId": "190abdcb-852b-4e2e-e739-07e6815c5297"
      },
      "execution_count": null,
      "outputs": [
        {
          "output_type": "execute_result",
          "data": {
            "text/plain": [
              "array([4, 0, 6, 2, 6])"
            ]
          },
          "metadata": {},
          "execution_count": 18
        }
      ]
    },
    {
      "cell_type": "code",
      "source": [
        "b[0:3, 1:4] # Satır Sütun aralığı"
      ],
      "metadata": {
        "colab": {
          "base_uri": "https://localhost:8080/"
        },
        "id": "vPb7RpYrL82Q",
        "outputId": "7f5b786a-6c0f-437b-eda6-90d81236143a"
      },
      "execution_count": null,
      "outputs": [
        {
          "output_type": "execute_result",
          "data": {
            "text/plain": [
              "array([[5, 1, 9],\n",
              "       [0, 1, 1],\n",
              "       [0, 2, 1]])"
            ]
          },
          "metadata": {},
          "execution_count": 21
        }
      ]
    },
    {
      "cell_type": "code",
      "source": [
        "alt_b = b[0:3, 1:4]\n",
        "alt_b"
      ],
      "metadata": {
        "colab": {
          "base_uri": "https://localhost:8080/"
        },
        "id": "YJIe3qemMUXe",
        "outputId": "8ca594d1-0672-4f3d-dcb0-dfa65b299b1c"
      },
      "execution_count": null,
      "outputs": [
        {
          "output_type": "execute_result",
          "data": {
            "text/plain": [
              "array([[5, 1, 9],\n",
              "       [0, 1, 1],\n",
              "       [0, 2, 1]])"
            ]
          },
          "metadata": {},
          "execution_count": 23
        }
      ]
    },
    {
      "cell_type": "code",
      "source": [
        "alt_b[0, 0:2] = 100\n",
        "alt_b"
      ],
      "metadata": {
        "colab": {
          "base_uri": "https://localhost:8080/"
        },
        "id": "QLBNnlDYM0-b",
        "outputId": "90435581-609f-436b-ba6f-439dacb7913e"
      },
      "execution_count": null,
      "outputs": [
        {
          "output_type": "execute_result",
          "data": {
            "text/plain": [
              "array([[100, 100,   9],\n",
              "       [  0,   1,   1],\n",
              "       [  0,   2,   1]])"
            ]
          },
          "metadata": {},
          "execution_count": 25
        }
      ]
    },
    {
      "cell_type": "code",
      "source": [
        "b # alt kümlelerdeki değişiklik tüm kümeyi de etkiliyor"
      ],
      "metadata": {
        "colab": {
          "base_uri": "https://localhost:8080/"
        },
        "id": "5vTooie6M0pR",
        "outputId": "945e7552-1095-49f6-f7b9-7edde9c800bf"
      },
      "execution_count": null,
      "outputs": [
        {
          "output_type": "execute_result",
          "data": {
            "text/plain": [
              "array([[  7, 100, 100,   9,   4],\n",
              "       [  8,   0,   1,   1,   0],\n",
              "       [  6,   0,   2,   1,   6],\n",
              "       [  8,   9,   6,   0,   2],\n",
              "       [  9,   0,   1,   5,   6]])"
            ]
          },
          "metadata": {},
          "execution_count": 26
        }
      ]
    },
    {
      "cell_type": "code",
      "source": [
        "copy_b = b[2:4, 0:4].copy()\n",
        "copy_b[0:2, 0:2] = 31\n",
        "copy_b"
      ],
      "metadata": {
        "colab": {
          "base_uri": "https://localhost:8080/"
        },
        "id": "FGYkSZnaNUzj",
        "outputId": "64748079-9842-4927-a732-274e753eb925"
      },
      "execution_count": null,
      "outputs": [
        {
          "output_type": "execute_result",
          "data": {
            "text/plain": [
              "array([[31, 31,  2,  1],\n",
              "       [31, 31,  6,  0]])"
            ]
          },
          "metadata": {},
          "execution_count": 31
        }
      ]
    },
    {
      "cell_type": "code",
      "source": [
        "b # Copy fonksiyonu asıl arrayden bağımsız hale getirmeyi sağlıyor"
      ],
      "metadata": {
        "colab": {
          "base_uri": "https://localhost:8080/"
        },
        "id": "8Fh6mp19N41g",
        "outputId": "87724b79-aa58-44b9-caac-b9c14a3e6a78"
      },
      "execution_count": null,
      "outputs": [
        {
          "output_type": "execute_result",
          "data": {
            "text/plain": [
              "array([[ 10, 103, 103,  12,   7],\n",
              "       [ 11,   0,   4,   4,   0],\n",
              "       [  9,   0,   5,   4,   9],\n",
              "       [ 11,  12,   9,   0,   5],\n",
              "       [ 12,   0,   4,   8,   9]])"
            ]
          },
          "metadata": {},
          "execution_count": 45
        }
      ]
    },
    {
      "cell_type": "code",
      "source": [
        "b[b > 0] += 1\n",
        "b"
      ],
      "metadata": {
        "colab": {
          "base_uri": "https://localhost:8080/"
        },
        "id": "fQW1AfJmOM9S",
        "outputId": "bb9074a3-182c-4fff-f63a-1cc40350d631"
      },
      "execution_count": null,
      "outputs": [
        {
          "output_type": "execute_result",
          "data": {
            "text/plain": [
              "array([[ 10, 103, 103,  12,   7],\n",
              "       [ 11,   0,   4,   4,   0],\n",
              "       [  9,   0,   5,   4,   9],\n",
              "       [ 11,  12,   9,   0,   5],\n",
              "       [ 12,   0,   4,   8,   9]])"
            ]
          },
          "metadata": {},
          "execution_count": 44
        }
      ]
    },
    {
      "cell_type": "code",
      "source": [
        "b=b/2\n",
        "b"
      ],
      "metadata": {
        "colab": {
          "base_uri": "https://localhost:8080/"
        },
        "id": "Q0z3Q-XZQwwX",
        "outputId": "363545d8-881b-4ef1-d38f-b6ae347fa0b3"
      },
      "execution_count": null,
      "outputs": [
        {
          "output_type": "execute_result",
          "data": {
            "text/plain": [
              "array([[ 2.5 , 25.75, 25.75,  3.  ,  1.75],\n",
              "       [ 2.75,  0.  ,  1.  ,  1.  ,  0.  ],\n",
              "       [ 2.25,  0.  ,  1.25,  1.  ,  2.25],\n",
              "       [ 2.75,  3.  ,  2.25,  0.  ,  1.25],\n",
              "       [ 3.  ,  0.  ,  1.  ,  2.  ,  2.25]])"
            ]
          },
          "metadata": {},
          "execution_count": 50
        }
      ]
    },
    {
      "cell_type": "code",
      "source": [
        "a = np.array(([1,2,4,1], [2,3,8,0], [2,4,6,1], [12,7,7,-1]))\n",
        "b = np.array([2,5,7,60])"
      ],
      "metadata": {
        "id": "CsfrScVpvSoQ"
      },
      "execution_count": null,
      "outputs": []
    },
    {
      "cell_type": "code",
      "source": [
        "x = np.linalg.solve(a,b)\n",
        "x"
      ],
      "metadata": {
        "colab": {
          "base_uri": "https://localhost:8080/"
        },
        "id": "qIGiBc5xx018",
        "outputId": "8256dcdd-dd7f-4abb-ed3d-d433104183e4"
      },
      "execution_count": null,
      "outputs": [
        {
          "output_type": "execute_result",
          "data": {
            "text/plain": [
              "array([ 4.87951807,  1.04819277, -0.98795181, -1.02409639])"
            ]
          },
          "metadata": {},
          "execution_count": 59
        }
      ]
    },
    {
      "cell_type": "code",
      "source": [
        "[b[1], b[0]]"
      ],
      "metadata": {
        "colab": {
          "base_uri": "https://localhost:8080/"
        },
        "id": "9yMZjOw6zpNU",
        "outputId": "ed3cbbd7-83fd-48c8-ce70-6a581f7c05a8"
      },
      "execution_count": null,
      "outputs": [
        {
          "output_type": "execute_result",
          "data": {
            "text/plain": [
              "[5, 2]"
            ]
          },
          "metadata": {},
          "execution_count": 62
        }
      ]
    },
    {
      "cell_type": "markdown",
      "source": [],
      "metadata": {
        "id": "QY5hYQ7VyJA2"
      }
    }
  ]
}