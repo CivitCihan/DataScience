{
  "nbformat": 4,
  "nbformat_minor": 0,
  "metadata": {
    "colab": {
      "provenance": [],
      "authorship_tag": "ABX9TyOlxF1O63qgAECXhe+HCi71",
      "include_colab_link": true
    },
    "kernelspec": {
      "name": "python3",
      "display_name": "Python 3"
    },
    "language_info": {
      "name": "python"
    }
  },
  "cells": [
    {
      "cell_type": "markdown",
      "metadata": {
        "id": "view-in-github",
        "colab_type": "text"
      },
      "source": [
        "<a href=\"https://colab.research.google.com/github/CivitCihan/DataScience/blob/main/DataSci2.ipynb\" target=\"_parent\"><img src=\"https://colab.research.google.com/assets/colab-badge.svg\" alt=\"Open In Colab\"/></a>"
      ]
    },
    {
      "cell_type": "markdown",
      "source": [
        "<h1>Data Analysis with NumPy 2</h1>"
      ],
      "metadata": {
        "id": "s-k4cfAp_9E1"
      }
    },
    {
      "cell_type": "code",
      "source": [
        "import numpy as np"
      ],
      "metadata": {
        "id": "I8D0kY9Cl0FT"
      },
      "execution_count": null,
      "outputs": []
    },
    {
      "cell_type": "code",
      "source": [
        "a = np.array([1,2,3,4,5])\n",
        "b = np.array([2.1, 7, 8, 1.2, 5])\n",
        "ab = [a*b]\n",
        "ab\n",
        "c = np.zeros([5], dtype = int)\n",
        "d = np.ones([5], dtype = int)\n",
        "e = np.full([5], 7)"
      ],
      "metadata": {
        "id": "VxOtHylLl4Pn"
      },
      "execution_count": null,
      "outputs": []
    },
    {
      "cell_type": "code",
      "source": [
        "c\n",
        "d\n",
        "e"
      ],
      "metadata": {
        "colab": {
          "base_uri": "https://localhost:8080/"
        },
        "id": "32s0KVEMmeml",
        "outputId": "809e94e6-9d42-462a-d36d-a6f5b8ef7fc7"
      },
      "execution_count": null,
      "outputs": [
        {
          "output_type": "execute_result",
          "data": {
            "text/plain": [
              "array([7, 7, 7, 7, 7])"
            ]
          },
          "metadata": {},
          "execution_count": 29
        }
      ]
    },
    {
      "cell_type": "code",
      "source": [
        "c-ab*(e-d)"
      ],
      "metadata": {
        "colab": {
          "base_uri": "https://localhost:8080/"
        },
        "id": "wGwyNFXOm9EF",
        "outputId": "5c152b1c-296e-4364-c160-75b22f84d98f"
      },
      "execution_count": null,
      "outputs": [
        {
          "output_type": "execute_result",
          "data": {
            "text/plain": [
              "array([[ -12.6,  -84. , -144. ,  -28.8, -150. ]])"
            ]
          },
          "metadata": {},
          "execution_count": 32
        }
      ]
    },
    {
      "cell_type": "code",
      "source": [
        "f = np.random.randint(0, 10, (5,5))\n",
        "f[3] = d\n",
        "f[1] = a\n",
        "f[2] = b\n",
        "f"
      ],
      "metadata": {
        "colab": {
          "base_uri": "https://localhost:8080/"
        },
        "id": "QSAaxhVVn1NL",
        "outputId": "80fe68e1-d3c8-4b30-f5cc-24d82a108e53"
      },
      "execution_count": null,
      "outputs": [
        {
          "output_type": "execute_result",
          "data": {
            "text/plain": [
              "array([[2, 4, 3, 5, 5],\n",
              "       [1, 2, 3, 4, 5],\n",
              "       [2, 7, 8, 1, 5],\n",
              "       [1, 1, 1, 1, 1],\n",
              "       [5, 8, 9, 8, 5]])"
            ]
          },
          "metadata": {},
          "execution_count": 44
        }
      ]
    },
    {
      "cell_type": "code",
      "source": [
        "f.shape"
      ],
      "metadata": {
        "colab": {
          "base_uri": "https://localhost:8080/"
        },
        "id": "jgTCOtsJp8_3",
        "outputId": "1cf9c9c2-2ee9-410c-c930-79ce773c0882"
      },
      "execution_count": null,
      "outputs": [
        {
          "output_type": "execute_result",
          "data": {
            "text/plain": [
              "(5, 5)"
            ]
          },
          "metadata": {},
          "execution_count": 45
        }
      ]
    },
    {
      "cell_type": "code",
      "source": [
        "f.size"
      ],
      "metadata": {
        "colab": {
          "base_uri": "https://localhost:8080/"
        },
        "id": "TGjhlSxVqDcd",
        "outputId": "6af106da-c555-4144-9f47-5518f65cc97d"
      },
      "execution_count": null,
      "outputs": [
        {
          "output_type": "execute_result",
          "data": {
            "text/plain": [
              "25"
            ]
          },
          "metadata": {},
          "execution_count": 46
        }
      ]
    },
    {
      "cell_type": "code",
      "source": [
        "f.dtype"
      ],
      "metadata": {
        "colab": {
          "base_uri": "https://localhost:8080/"
        },
        "id": "o1qUsi74qIgY",
        "outputId": "2d4c2f3f-bf5b-459d-df66-8566ea6c5514"
      },
      "execution_count": null,
      "outputs": [
        {
          "output_type": "execute_result",
          "data": {
            "text/plain": [
              "dtype('int64')"
            ]
          },
          "metadata": {},
          "execution_count": 47
        }
      ]
    },
    {
      "cell_type": "code",
      "source": [
        "f.ndim"
      ],
      "metadata": {
        "colab": {
          "base_uri": "https://localhost:8080/"
        },
        "id": "elmveDpCqX2Z",
        "outputId": "e6a07bcc-353a-4089-ba9f-75e245ce3452"
      },
      "execution_count": null,
      "outputs": [
        {
          "output_type": "execute_result",
          "data": {
            "text/plain": [
              "2"
            ]
          },
          "metadata": {},
          "execution_count": 48
        }
      ]
    },
    {
      "cell_type": "code",
      "source": [
        "x = np.arange(1,10)\n",
        "x"
      ],
      "metadata": {
        "colab": {
          "base_uri": "https://localhost:8080/"
        },
        "id": "EcPAOhXGqh0X",
        "outputId": "cff7e8ea-9a5e-4507-dccb-433af022e207"
      },
      "execution_count": null,
      "outputs": [
        {
          "output_type": "execute_result",
          "data": {
            "text/plain": [
              "array([1, 2, 3, 4, 5, 6, 7, 8, 9])"
            ]
          },
          "metadata": {},
          "execution_count": 53
        }
      ]
    },
    {
      "cell_type": "code",
      "source": [
        "x.reshape((3,3))"
      ],
      "metadata": {
        "colab": {
          "base_uri": "https://localhost:8080/"
        },
        "id": "T_jEnbjxrEjp",
        "outputId": "237a765f-29f4-43dc-adfd-36609a3c424c"
      },
      "execution_count": null,
      "outputs": [
        {
          "output_type": "execute_result",
          "data": {
            "text/plain": [
              "array([[1, 2, 3],\n",
              "       [4, 5, 6],\n",
              "       [7, 8, 9]])"
            ]
          },
          "metadata": {},
          "execution_count": 54
        }
      ]
    },
    {
      "cell_type": "code",
      "source": [
        "q = np.random.randint(10, size = 10)\n",
        "z = np.random.randint(10, size = 10)"
      ],
      "metadata": {
        "id": "lrhEh-5srXL6"
      },
      "execution_count": null,
      "outputs": []
    },
    {
      "cell_type": "code",
      "source": [
        "zq=np.concatenate([q,z])\n",
        "zq\n",
        "zq=zq.reshape((2,10))"
      ],
      "metadata": {
        "id": "9o2Vyqaary6D"
      },
      "execution_count": null,
      "outputs": []
    },
    {
      "cell_type": "code",
      "source": [
        "qz=np.concatenate([zq, zq])\n",
        "qz"
      ],
      "metadata": {
        "colab": {
          "base_uri": "https://localhost:8080/"
        },
        "id": "yLSP_fMqsoZ-",
        "outputId": "88e5fa53-9b4f-4dff-c98d-70ff843d9867"
      },
      "execution_count": null,
      "outputs": [
        {
          "output_type": "execute_result",
          "data": {
            "text/plain": [
              "array([[8, 2, 8, 6, 6, 9, 5, 0, 7, 0],\n",
              "       [4, 2, 8, 5, 6, 8, 3, 8, 0, 6],\n",
              "       [8, 2, 8, 6, 6, 9, 5, 0, 7, 0],\n",
              "       [4, 2, 8, 5, 6, 8, 3, 8, 0, 6]])"
            ]
          },
          "metadata": {},
          "execution_count": 66
        }
      ]
    },
    {
      "cell_type": "code",
      "source": [
        "qz=np.concatenate([zq, zq], axis=1)\n",
        "qz"
      ],
      "metadata": {
        "colab": {
          "base_uri": "https://localhost:8080/"
        },
        "id": "neP23hZSsV_y",
        "outputId": "83affe5f-5ded-4c55-e17c-f9971f2ccb07"
      },
      "execution_count": null,
      "outputs": [
        {
          "output_type": "execute_result",
          "data": {
            "text/plain": [
              "array([[8, 2, 8, 6, 6, 9, 5, 0, 7, 0, 8, 2, 8, 6, 6, 9, 5, 0, 7, 0],\n",
              "       [4, 2, 8, 5, 6, 8, 3, 8, 0, 6, 4, 2, 8, 5, 6, 8, 3, 8, 0, 6]])"
            ]
          },
          "metadata": {},
          "execution_count": 67
        }
      ]
    },
    {
      "cell_type": "code",
      "source": [
        "np.sort(qz)"
      ],
      "metadata": {
        "colab": {
          "base_uri": "https://localhost:8080/"
        },
        "id": "W-lWtYOAHh9s",
        "outputId": "f5f8f8f0-2666-4359-e57d-3af09e94c96d"
      },
      "execution_count": null,
      "outputs": [
        {
          "output_type": "execute_result",
          "data": {
            "text/plain": [
              "array([[0, 0, 0, 0, 2, 2, 5, 5, 6, 6, 6, 6, 7, 7, 8, 8, 8, 8, 9, 9],\n",
              "       [0, 0, 2, 2, 3, 3, 4, 4, 5, 5, 6, 6, 6, 6, 8, 8, 8, 8, 8, 8]])"
            ]
          },
          "metadata": {},
          "execution_count": 68
        }
      ]
    },
    {
      "cell_type": "code",
      "source": [
        "qz[0][9]"
      ],
      "metadata": {
        "colab": {
          "base_uri": "https://localhost:8080/"
        },
        "id": "fEfl1t2iH2fZ",
        "outputId": "b78adc2b-b1be-4b09-ad39-5260f2f842ea"
      },
      "execution_count": null,
      "outputs": [
        {
          "output_type": "execute_result",
          "data": {
            "text/plain": [
              "0"
            ]
          },
          "metadata": {},
          "execution_count": 70
        }
      ]
    },
    {
      "cell_type": "code",
      "source": [
        "np.append(zq, qz)\n",
        "# np.concatenate([zq, qz])"
      ],
      "metadata": {
        "colab": {
          "base_uri": "https://localhost:8080/"
        },
        "id": "Vwzk3ZBBIaNl",
        "outputId": "6632bdfd-f47d-460d-9ff9-cf71f80973c3"
      },
      "execution_count": null,
      "outputs": [
        {
          "output_type": "execute_result",
          "data": {
            "text/plain": [
              "array([8, 2, 8, 6, 6, 9, 5, 0, 7, 0, 4, 2, 8, 5, 6, 8, 3, 8, 0, 6, 8, 2,\n",
              "       8, 6, 6, 9, 5, 0, 7, 0, 8, 2, 8, 6, 6, 9, 5, 0, 7, 0, 4, 2, 8, 5,\n",
              "       6, 8, 3, 8, 0, 6, 4, 2, 8, 5, 6, 8, 3, 8, 0, 6])"
            ]
          },
          "metadata": {},
          "execution_count": 72
        }
      ]
    },
    {
      "cell_type": "code",
      "source": [],
      "metadata": {
        "id": "ZMAa0LRSJDjP"
      },
      "execution_count": null,
      "outputs": []
    }
  ]
}